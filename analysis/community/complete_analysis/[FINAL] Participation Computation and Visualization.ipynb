{
 "cells": [
  {
   "cell_type": "code",
   "execution_count": 54,
   "metadata": {
    "collapsed": true
   },
   "outputs": [],
   "source": [
    "import pandas as pd\n",
    "import numpy as np\n",
    "\n",
    "import snap\n",
    "\n",
    "import requests\n",
    "import re"
   ]
  },
  {
   "cell_type": "code",
   "execution_count": 2,
   "metadata": {},
   "outputs": [
    {
     "data": {
      "text/html": [
       "<div>\n",
       "<style>\n",
       "    .dataframe thead tr:only-child th {\n",
       "        text-align: right;\n",
       "    }\n",
       "\n",
       "    .dataframe thead th {\n",
       "        text-align: left;\n",
       "    }\n",
       "\n",
       "    .dataframe tbody tr th {\n",
       "        vertical-align: top;\n",
       "    }\n",
       "</style>\n",
       "<table border=\"1\" class=\"dataframe\">\n",
       "  <thead>\n",
       "    <tr style=\"text-align: right;\">\n",
       "      <th></th>\n",
       "      <th>n_cluster</th>\n",
       "      <th>dim</th>\n",
       "      <th>hashtags</th>\n",
       "    </tr>\n",
       "  </thead>\n",
       "  <tbody>\n",
       "    <tr>\n",
       "      <th>0</th>\n",
       "      <td>-1</td>\n",
       "      <td>917</td>\n",
       "      <td>NaN</td>\n",
       "    </tr>\n",
       "    <tr>\n",
       "      <th>1</th>\n",
       "      <td>0</td>\n",
       "      <td>370</td>\n",
       "      <td>colour,sunday,friday,weekend,coffee,monday,tex...</td>\n",
       "    </tr>\n",
       "    <tr>\n",
       "      <th>2</th>\n",
       "      <td>1</td>\n",
       "      <td>23</td>\n",
       "      <td>sydney,keychain,australia,streetstyle,bali,fas...</td>\n",
       "    </tr>\n",
       "    <tr>\n",
       "      <th>3</th>\n",
       "      <td>2</td>\n",
       "      <td>39</td>\n",
       "      <td>turquoise,earrings,necklace,jewellery,accessor...</td>\n",
       "    </tr>\n",
       "    <tr>\n",
       "      <th>4</th>\n",
       "      <td>3</td>\n",
       "      <td>16</td>\n",
       "      <td>positano,amalficoast,capri,ravello,amalfi,sorr...</td>\n",
       "    </tr>\n",
       "  </tbody>\n",
       "</table>\n",
       "</div>"
      ],
      "text/plain": [
       "   n_cluster  dim                                           hashtags\n",
       "0         -1  917                                                NaN\n",
       "1          0  370  colour,sunday,friday,weekend,coffee,monday,tex...\n",
       "2          1   23  sydney,keychain,australia,streetstyle,bali,fas...\n",
       "3          2   39  turquoise,earrings,necklace,jewellery,accessor...\n",
       "4          3   16  positano,amalficoast,capri,ravello,amalfi,sorr..."
      ]
     },
     "execution_count": 2,
     "metadata": {},
     "output_type": "execute_result"
    }
   ],
   "source": [
    "clusters = pd.read_csv('output/final/1_step_tags_clusters.txt', sep='\\t')\n",
    "clusters.head()"
   ]
  },
  {
   "cell_type": "markdown",
   "metadata": {},
   "source": [
    "## Participation"
   ]
  },
  {
   "cell_type": "code",
   "execution_count": 3,
   "metadata": {
    "collapsed": true
   },
   "outputs": [],
   "source": [
    "# extract list of tags for each cluster\n",
    "clusterTags = {}\n",
    "for c in range(clusters.shape[0]-1):\n",
    "    c_tags = clusters[clusters['n_cluster'] == c]['hashtags'].values[0].split(',')\n",
    "    clusterTags[c] = set(c_tags)"
   ]
  },
  {
   "cell_type": "code",
   "execution_count": 35,
   "metadata": {
    "collapsed": true
   },
   "outputs": [],
   "source": [
    "# extract list of tags for each post\n",
    "path = 'data/test-3/'\n",
    "\n",
    "# read input network\n",
    "t_net = snap.LoadEdgeListNet(path+'hashtag_network.csv', '\\t')\n",
    "\n",
    "usedtags = {}\n",
    "userposts = {}\n",
    "\n",
    "it = t_net.BegNI()\n",
    "V = t_net.GetNodes()\n",
    "for i in range(V):\n",
    "    nid = it.GetId()\n",
    "    type = t_net.GetStrAttrDatN(nid, 'type')\n",
    "\n",
    "    if type == 'post':\n",
    "        id_post = t_net.GetStrAttrDatN(nid, 'id')\n",
    "        \n",
    "        taglist = []\n",
    "        nodeIt = t_net.GetNI(nid)\n",
    "        for t in range(nodeIt.GetOutDeg()):\n",
    "            tid = nodeIt.GetOutNId(t)\n",
    "            tagname = t_net.GetStrAttrDatN(tid, 'content')\n",
    "            taglist.append(tagname)\n",
    "            \n",
    "        usedtags[id_post] = set(taglist)\n",
    "        \n",
    "    elif type == 'user':\n",
    "        username = t_net.GetStrAttrDatN(nid, 'content')\n",
    "        postlist = []\n",
    "        nodeIt = t_net.GetNI(nid)\n",
    "        for t in range(nodeIt.GetOutDeg()):\n",
    "            pid = nodeIt.GetOutNId(t)\n",
    "            id_post = t_net.GetStrAttrDatN(pid, 'id')\n",
    "            postlist.append(id_post)\n",
    "            \n",
    "        userposts[username] = set(postlist)\n",
    "    it.Next()"
   ]
  },
  {
   "cell_type": "code",
   "execution_count": 28,
   "metadata": {},
   "outputs": [],
   "source": [
    "# compute participation of each post in each cluster \n",
    "postPart = {}\n",
    "for p in usedtags:\n",
    "    p_vector = usedtags[p]\n",
    "    \n",
    "    if len(p_vector)>0:\n",
    "        postPart[p] = {}\n",
    "        for c in range(clusters.shape[0]-1):\n",
    "            c_vector = clusterTags[c]\n",
    "            participation = float(len(p_vector.intersection(c_vector)))/len(c_vector)\n",
    "            postPart[p][c] = participation"
   ]
  },
  {
   "cell_type": "code",
   "execution_count": 29,
   "metadata": {
    "collapsed": true
   },
   "outputs": [],
   "source": [
    "participationTablePost = pd.DataFrame.from_dict(postPart, orient='index')"
   ]
  },
  {
   "cell_type": "code",
   "execution_count": 30,
   "metadata": {
    "collapsed": true
   },
   "outputs": [],
   "source": [
    "participationTablePost.to_csv('output/final/1_step_post_particiapation.csv')"
   ]
  },
  {
   "cell_type": "code",
   "execution_count": 38,
   "metadata": {},
   "outputs": [],
   "source": [
    "# compute participation of user based on post participation and check differences \n",
    "# with directly computing the participation\n",
    "userPart = {}\n",
    "for u in userposts.keys():\n",
    "    u_posts = userposts[u]\n",
    "    userPart[u] = {}\n",
    "    for c in range(clusters.shape[0]-1):\n",
    "        userPart[u][c] = 0\n",
    "        n_relevant_posts = len(u_posts)\n",
    "        for p in u_posts:\n",
    "            try:\n",
    "                userPart[u][c] = userPart[u][c] + postPart[p][c]\n",
    "            except KeyError:\n",
    "                n_relevant_posts -= 1 # post without hashtags\n",
    "        \n",
    "        if n_relevant_posts > 0:\n",
    "            userPart[u][c] = userPart[u][c]/n_relevant_posts\n",
    "        "
   ]
  },
  {
   "cell_type": "code",
   "execution_count": 39,
   "metadata": {
    "collapsed": true
   },
   "outputs": [],
   "source": [
    "participationTable = pd.DataFrame.from_dict(userPart, orient='index')\n",
    "participationTable.to_csv('output/final/1_step_user_particiapation_freq.csv')"
   ]
  },
  {
   "cell_type": "code",
   "execution_count": 40,
   "metadata": {},
   "outputs": [
    {
     "data": {
      "text/plain": [
       "[(8, 0.03571428571428571),\n",
       " (5, 0.020833333333333332),\n",
       " (2, 0.00641025641025641),\n",
       " (0, 0.0),\n",
       " (1, 0.0),\n",
       " (3, 0.0),\n",
       " (4, 0.0),\n",
       " (6, 0.0),\n",
       " (7, 0.0),\n",
       " (9, 0.0),\n",
       " (10, 0.0),\n",
       " (11, 0.0),\n",
       " (12, 0.0),\n",
       " (13, 0.0),\n",
       " (14, 0.0),\n",
       " (15, 0.0),\n",
       " (16, 0.0),\n",
       " (17, 0.0),\n",
       " (18, 0.0),\n",
       " (19, 0.0),\n",
       " (20, 0.0)]"
      ]
     },
     "execution_count": 40,
     "metadata": {},
     "output_type": "execute_result"
    }
   ],
   "source": [
    "sorted(userPart['laputenas'].items(), key=lambda (k, v): v, reverse=True)"
   ]
  },
  {
   "cell_type": "markdown",
   "metadata": {},
   "source": [
    "## Visualization of resulting graph"
   ]
  },
  {
   "cell_type": "markdown",
   "metadata": {},
   "source": [
    "Connect each user to a max of 3 communities"
   ]
  },
  {
   "cell_type": "code",
   "execution_count": 41,
   "metadata": {
    "collapsed": true
   },
   "outputs": [],
   "source": [
    "MAX_COMM = 3\n",
    "outpath = 'output/final/'"
   ]
  },
  {
   "cell_type": "code",
   "execution_count": 42,
   "metadata": {
    "collapsed": true
   },
   "outputs": [],
   "source": [
    "edgetable = []\n",
    "\n",
    "\n",
    "for u in userPart.keys():\n",
    "    u_part = userPart[u]\n",
    "    best_communities = sorted(u_part.items(), key=lambda (k, v): v, reverse=True)[:MAX_COMM]\n",
    "    \n",
    "    userlist = [tuple((u, bc[0], bc[1])) for bc in best_communities if bc[1]>0]\n",
    "    edgetable = edgetable + userlist"
   ]
  },
  {
   "cell_type": "code",
   "execution_count": 43,
   "metadata": {
    "collapsed": true
   },
   "outputs": [],
   "source": [
    "edges = pd.DataFrame(edgetable, columns=['source','target','weight'])\n",
    "edges.to_csv(outpath + 'user_cluster_edges_viz.csv', index=None)"
   ]
  },
  {
   "cell_type": "code",
   "execution_count": 44,
   "metadata": {
    "collapsed": true
   },
   "outputs": [],
   "source": [
    "# size of cluster is the number of hashtags\n",
    "def computeSize(cluster):\n",
    "    return  clusters[clusters['n_cluster'] == int(cluster)]['dim'].values[0]\n",
    "\n",
    "# label for now is the set of hashtags (need to manual define a name if possible)\n",
    "def computeLabel(cluster):\n",
    "    return  clusters[clusters['n_cluster'] == int(cluster)]['hashtags'].values[0]\n"
   ]
  },
  {
   "cell_type": "code",
   "execution_count": 45,
   "metadata": {},
   "outputs": [
    {
     "name": "stderr",
     "output_type": "stream",
     "text": [
      "c:\\python27\\lib\\site-packages\\ipykernel_launcher.py:11: SettingWithCopyWarning: \n",
      "A value is trying to be set on a copy of a slice from a DataFrame.\n",
      "Try using .loc[row_indexer,col_indexer] = value instead\n",
      "\n",
      "See the caveats in the documentation: http://pandas.pydata.org/pandas-docs/stable/indexing.html#indexing-view-versus-copy\n",
      "  # This is added back by InteractiveShellApp.init_path()\n"
     ]
    }
   ],
   "source": [
    "nodes = pd.DataFrame(columns=['id', 'type'])\n",
    "\n",
    "# cluster nodes\n",
    "n1 = pd.DataFrame(edges['target'].unique(), columns=['id'])\n",
    "n1['type'] = 'cluster'\n",
    "n1['size'] = n1['id'].apply(lambda x: computeSize(x))\n",
    "n1['label'] = n1['id'].apply(lambda x: computeLabel(x))\n",
    "\n",
    "# user nodes\n",
    "n2 = edges[['source']]\n",
    "n2['type'] = 'user'\n",
    "n2.columns = ['id', 'type']\n",
    "n2['size'] = 1\n",
    "n2['label'] = n2.apply(lambda x: x['id'], axis=1)\n",
    "\n",
    "nodes = pd.concat([n1, n2])\n",
    "nodes.drop_duplicates().to_csv(outpath + 'user_cluster_nodes_viz.csv', index=None)"
   ]
  },
  {
   "cell_type": "markdown",
   "metadata": {},
   "source": [
    "## Extraction of top images"
   ]
  },
  {
   "cell_type": "code",
   "execution_count": 18,
   "metadata": {
    "collapsed": true
   },
   "outputs": [],
   "source": [
    "def get_img_url(postUrl):\n",
    "    page = requests.get(url)\n",
    "    try:\n",
    "        return re.findall(r'=[\\S]*.jpg', page.text)[0][2:] # 640, 750, 1080 are the three possible urls, they start with =\"\n",
    "    except Exception as e:\n",
    "        print e, postUrl\n",
    "        return None"
   ]
  },
  {
   "cell_type": "code",
   "execution_count": 56,
   "metadata": {
    "collapsed": true
   },
   "outputs": [],
   "source": [
    "TOP_IMG = 5\n",
    "cluster_pic_path = '../../../img/'"
   ]
  },
  {
   "cell_type": "code",
   "execution_count": 16,
   "metadata": {},
   "outputs": [
    {
     "data": {
      "text/html": [
       "<div>\n",
       "<style>\n",
       "    .dataframe thead tr:only-child th {\n",
       "        text-align: right;\n",
       "    }\n",
       "\n",
       "    .dataframe thead th {\n",
       "        text-align: left;\n",
       "    }\n",
       "\n",
       "    .dataframe tbody tr th {\n",
       "        vertical-align: top;\n",
       "    }\n",
       "</style>\n",
       "<table border=\"1\" class=\"dataframe\">\n",
       "  <thead>\n",
       "    <tr style=\"text-align: right;\">\n",
       "      <th></th>\n",
       "      <th>id_post</th>\n",
       "      <th>username</th>\n",
       "      <th>video_count</th>\n",
       "      <th>url_img</th>\n",
       "      <th>link_post</th>\n",
       "      <th>owner</th>\n",
       "      <th>caption</th>\n",
       "      <th>comment_count</th>\n",
       "      <th>taken_at_timestamp</th>\n",
       "      <th>taken_at_time</th>\n",
       "      <th>shortcode</th>\n",
       "      <th>is_video</th>\n",
       "      <th>likes_count</th>\n",
       "    </tr>\n",
       "  </thead>\n",
       "  <tbody>\n",
       "    <tr>\n",
       "      <th>0</th>\n",
       "      <td>1636842385063323219</td>\n",
       "      <td>gxgcollective</td>\n",
       "      <td>0</td>\n",
       "      <td>https://scontent-mxp1-1.cdninstagram.com/t51.2...</td>\n",
       "      <td>https://www.instagram.com/p/Ba3O3oTAKZT</td>\n",
       "      <td>2964555295</td>\n",
       "      <td>Some beautiful luxe pieces have arrived - hand...</td>\n",
       "      <td>1.0</td>\n",
       "      <td>1.509347e+09</td>\n",
       "      <td>2017-10-30 08:00:39</td>\n",
       "      <td>Ba3O3oTAKZT</td>\n",
       "      <td>False</td>\n",
       "      <td>10.0</td>\n",
       "    </tr>\n",
       "    <tr>\n",
       "      <th>1</th>\n",
       "      <td>1636667639059249501</td>\n",
       "      <td>gxgcollective</td>\n",
       "      <td>0</td>\n",
       "      <td>https://scontent-mxp1-1.cdninstagram.com/t51.2...</td>\n",
       "      <td>https://www.instagram.com/p/Ba2nIvZgPld</td>\n",
       "      <td>2964555295</td>\n",
       "      <td>It’s a scorcher today - wish we were here 🌞🔥...</td>\n",
       "      <td>0.0</td>\n",
       "      <td>1.509326e+09</td>\n",
       "      <td>2017-10-30 02:13:28</td>\n",
       "      <td>Ba2nIvZgPld</td>\n",
       "      <td>False</td>\n",
       "      <td>15.0</td>\n",
       "    </tr>\n",
       "    <tr>\n",
       "      <th>2</th>\n",
       "      <td>1635907116583816031</td>\n",
       "      <td>gxgcollective</td>\n",
       "      <td>0</td>\n",
       "      <td>https://scontent-mxp1-1.cdninstagram.com/t51.2...</td>\n",
       "      <td>https://www.instagram.com/p/Baz6Nrpgwtf</td>\n",
       "      <td>2964555295</td>\n",
       "      <td>Weekend summer vibes - Shop gxgcollective.com ...</td>\n",
       "      <td>0.0</td>\n",
       "      <td>1.509235e+09</td>\n",
       "      <td>2017-10-29 02:02:26</td>\n",
       "      <td>Baz6Nrpgwtf</td>\n",
       "      <td>False</td>\n",
       "      <td>5.0</td>\n",
       "    </tr>\n",
       "    <tr>\n",
       "      <th>3</th>\n",
       "      <td>1635853795965600449</td>\n",
       "      <td>gxgcollective</td>\n",
       "      <td>0</td>\n",
       "      <td>https://scontent-mxp1-1.cdninstagram.com/t51.2...</td>\n",
       "      <td>https://www.instagram.com/p/BazuFw9AQLB</td>\n",
       "      <td>2964555295</td>\n",
       "      <td>Morning x #gxgcollective</td>\n",
       "      <td>0.0</td>\n",
       "      <td>1.509229e+09</td>\n",
       "      <td>2017-10-29 00:16:30</td>\n",
       "      <td>BazuFw9AQLB</td>\n",
       "      <td>False</td>\n",
       "      <td>6.0</td>\n",
       "    </tr>\n",
       "    <tr>\n",
       "      <th>4</th>\n",
       "      <td>1635593889484344162</td>\n",
       "      <td>gxgcollective</td>\n",
       "      <td>0</td>\n",
       "      <td>https://scontent-mxp1-1.cdninstagram.com/t51.2...</td>\n",
       "      <td>https://www.instagram.com/p/Bayy_oLg4ti</td>\n",
       "      <td>2964555295</td>\n",
       "      <td>gxgcollective.com - New arrivals - A touch of ...</td>\n",
       "      <td>0.0</td>\n",
       "      <td>1.509198e+09</td>\n",
       "      <td>2017-10-28 15:40:07</td>\n",
       "      <td>Bayy_oLg4ti</td>\n",
       "      <td>False</td>\n",
       "      <td>10.0</td>\n",
       "    </tr>\n",
       "  </tbody>\n",
       "</table>\n",
       "</div>"
      ],
      "text/plain": [
       "               id_post       username video_count  \\\n",
       "0  1636842385063323219  gxgcollective           0   \n",
       "1  1636667639059249501  gxgcollective           0   \n",
       "2  1635907116583816031  gxgcollective           0   \n",
       "3  1635853795965600449  gxgcollective           0   \n",
       "4  1635593889484344162  gxgcollective           0   \n",
       "\n",
       "                                             url_img  \\\n",
       "0  https://scontent-mxp1-1.cdninstagram.com/t51.2...   \n",
       "1  https://scontent-mxp1-1.cdninstagram.com/t51.2...   \n",
       "2  https://scontent-mxp1-1.cdninstagram.com/t51.2...   \n",
       "3  https://scontent-mxp1-1.cdninstagram.com/t51.2...   \n",
       "4  https://scontent-mxp1-1.cdninstagram.com/t51.2...   \n",
       "\n",
       "                                 link_post       owner  \\\n",
       "0  https://www.instagram.com/p/Ba3O3oTAKZT  2964555295   \n",
       "1  https://www.instagram.com/p/Ba2nIvZgPld  2964555295   \n",
       "2  https://www.instagram.com/p/Baz6Nrpgwtf  2964555295   \n",
       "3  https://www.instagram.com/p/BazuFw9AQLB  2964555295   \n",
       "4  https://www.instagram.com/p/Bayy_oLg4ti  2964555295   \n",
       "\n",
       "                                             caption  comment_count  \\\n",
       "0  Some beautiful luxe pieces have arrived - hand...            1.0   \n",
       "1  It’s a scorcher today - wish we were here 🌞🔥...            0.0   \n",
       "2  Weekend summer vibes - Shop gxgcollective.com ...            0.0   \n",
       "3                           Morning x #gxgcollective            0.0   \n",
       "4  gxgcollective.com - New arrivals - A touch of ...            0.0   \n",
       "\n",
       "   taken_at_timestamp        taken_at_time    shortcode is_video  likes_count  \n",
       "0        1.509347e+09  2017-10-30 08:00:39  Ba3O3oTAKZT    False         10.0  \n",
       "1        1.509326e+09  2017-10-30 02:13:28  Ba2nIvZgPld    False         15.0  \n",
       "2        1.509235e+09  2017-10-29 02:02:26  Baz6Nrpgwtf    False          5.0  \n",
       "3        1.509229e+09  2017-10-29 00:16:30  BazuFw9AQLB    False          6.0  \n",
       "4        1.509198e+09  2017-10-28 15:40:07  Bayy_oLg4ti    False         10.0  "
      ]
     },
     "execution_count": 16,
     "metadata": {},
     "output_type": "execute_result"
    }
   ],
   "source": [
    "posts = pd.read_csv('raw-data/post.csv', sep='\\t')\n",
    "posts.head()"
   ]
  },
  {
   "cell_type": "code",
   "execution_count": 46,
   "metadata": {},
   "outputs": [
    {
     "data": {
      "text/html": [
       "<div>\n",
       "<style>\n",
       "    .dataframe thead tr:only-child th {\n",
       "        text-align: right;\n",
       "    }\n",
       "\n",
       "    .dataframe thead th {\n",
       "        text-align: left;\n",
       "    }\n",
       "\n",
       "    .dataframe tbody tr th {\n",
       "        vertical-align: top;\n",
       "    }\n",
       "</style>\n",
       "<table border=\"1\" class=\"dataframe\">\n",
       "  <thead>\n",
       "    <tr style=\"text-align: right;\">\n",
       "      <th></th>\n",
       "      <th>0</th>\n",
       "      <th>1</th>\n",
       "      <th>2</th>\n",
       "      <th>3</th>\n",
       "      <th>4</th>\n",
       "      <th>5</th>\n",
       "      <th>6</th>\n",
       "      <th>7</th>\n",
       "      <th>8</th>\n",
       "      <th>9</th>\n",
       "      <th>...</th>\n",
       "      <th>11</th>\n",
       "      <th>12</th>\n",
       "      <th>13</th>\n",
       "      <th>14</th>\n",
       "      <th>15</th>\n",
       "      <th>16</th>\n",
       "      <th>17</th>\n",
       "      <th>18</th>\n",
       "      <th>19</th>\n",
       "      <th>20</th>\n",
       "    </tr>\n",
       "  </thead>\n",
       "  <tbody>\n",
       "    <tr>\n",
       "      <th>1417719112704094679</th>\n",
       "      <td>0.0</td>\n",
       "      <td>0.0</td>\n",
       "      <td>0.0</td>\n",
       "      <td>0.0</td>\n",
       "      <td>0.000000</td>\n",
       "      <td>0.0</td>\n",
       "      <td>0.0</td>\n",
       "      <td>0.0</td>\n",
       "      <td>0.0</td>\n",
       "      <td>0.0</td>\n",
       "      <td>...</td>\n",
       "      <td>0.0</td>\n",
       "      <td>0.0</td>\n",
       "      <td>0.0</td>\n",
       "      <td>0.0</td>\n",
       "      <td>0.0</td>\n",
       "      <td>0.0</td>\n",
       "      <td>0.0</td>\n",
       "      <td>0.0</td>\n",
       "      <td>0.0</td>\n",
       "      <td>0.0</td>\n",
       "    </tr>\n",
       "    <tr>\n",
       "      <th>1417720206520100400</th>\n",
       "      <td>0.0</td>\n",
       "      <td>0.0</td>\n",
       "      <td>0.0</td>\n",
       "      <td>0.0</td>\n",
       "      <td>0.000000</td>\n",
       "      <td>0.0</td>\n",
       "      <td>0.0</td>\n",
       "      <td>0.0</td>\n",
       "      <td>0.0</td>\n",
       "      <td>0.0</td>\n",
       "      <td>...</td>\n",
       "      <td>0.0</td>\n",
       "      <td>0.0</td>\n",
       "      <td>0.0</td>\n",
       "      <td>0.0</td>\n",
       "      <td>0.0</td>\n",
       "      <td>0.0</td>\n",
       "      <td>0.0</td>\n",
       "      <td>0.0</td>\n",
       "      <td>0.0</td>\n",
       "      <td>0.0</td>\n",
       "    </tr>\n",
       "    <tr>\n",
       "      <th>1417721423774016136</th>\n",
       "      <td>0.0</td>\n",
       "      <td>0.0</td>\n",
       "      <td>0.0</td>\n",
       "      <td>0.0</td>\n",
       "      <td>0.000000</td>\n",
       "      <td>0.0</td>\n",
       "      <td>0.0</td>\n",
       "      <td>0.0</td>\n",
       "      <td>0.0</td>\n",
       "      <td>0.0</td>\n",
       "      <td>...</td>\n",
       "      <td>0.0</td>\n",
       "      <td>0.0</td>\n",
       "      <td>0.0</td>\n",
       "      <td>0.0</td>\n",
       "      <td>0.0</td>\n",
       "      <td>0.0</td>\n",
       "      <td>0.0</td>\n",
       "      <td>0.0</td>\n",
       "      <td>0.0</td>\n",
       "      <td>0.0</td>\n",
       "    </tr>\n",
       "    <tr>\n",
       "      <th>1417723489285569906</th>\n",
       "      <td>0.0</td>\n",
       "      <td>0.0</td>\n",
       "      <td>0.0</td>\n",
       "      <td>0.0</td>\n",
       "      <td>0.000000</td>\n",
       "      <td>0.0</td>\n",
       "      <td>0.0</td>\n",
       "      <td>0.0</td>\n",
       "      <td>0.0</td>\n",
       "      <td>0.0</td>\n",
       "      <td>...</td>\n",
       "      <td>0.0</td>\n",
       "      <td>0.0</td>\n",
       "      <td>0.0</td>\n",
       "      <td>0.0</td>\n",
       "      <td>0.0</td>\n",
       "      <td>0.0</td>\n",
       "      <td>0.0</td>\n",
       "      <td>0.0</td>\n",
       "      <td>0.0</td>\n",
       "      <td>0.0</td>\n",
       "    </tr>\n",
       "    <tr>\n",
       "      <th>1417726356804600801</th>\n",
       "      <td>0.0</td>\n",
       "      <td>0.0</td>\n",
       "      <td>0.0</td>\n",
       "      <td>0.0</td>\n",
       "      <td>0.035714</td>\n",
       "      <td>0.0</td>\n",
       "      <td>0.0</td>\n",
       "      <td>0.0</td>\n",
       "      <td>0.0</td>\n",
       "      <td>0.0</td>\n",
       "      <td>...</td>\n",
       "      <td>0.0</td>\n",
       "      <td>0.0</td>\n",
       "      <td>0.0</td>\n",
       "      <td>0.0</td>\n",
       "      <td>0.0</td>\n",
       "      <td>0.0</td>\n",
       "      <td>0.0</td>\n",
       "      <td>0.0</td>\n",
       "      <td>0.0</td>\n",
       "      <td>0.0</td>\n",
       "    </tr>\n",
       "  </tbody>\n",
       "</table>\n",
       "<p>5 rows × 21 columns</p>\n",
       "</div>"
      ],
      "text/plain": [
       "                      0    1    2    3         4    5    6    7    8    9   \\\n",
       "1417719112704094679  0.0  0.0  0.0  0.0  0.000000  0.0  0.0  0.0  0.0  0.0   \n",
       "1417720206520100400  0.0  0.0  0.0  0.0  0.000000  0.0  0.0  0.0  0.0  0.0   \n",
       "1417721423774016136  0.0  0.0  0.0  0.0  0.000000  0.0  0.0  0.0  0.0  0.0   \n",
       "1417723489285569906  0.0  0.0  0.0  0.0  0.000000  0.0  0.0  0.0  0.0  0.0   \n",
       "1417726356804600801  0.0  0.0  0.0  0.0  0.035714  0.0  0.0  0.0  0.0  0.0   \n",
       "\n",
       "                    ...    11   12   13   14   15   16   17   18   19   20  \n",
       "1417719112704094679 ...   0.0  0.0  0.0  0.0  0.0  0.0  0.0  0.0  0.0  0.0  \n",
       "1417720206520100400 ...   0.0  0.0  0.0  0.0  0.0  0.0  0.0  0.0  0.0  0.0  \n",
       "1417721423774016136 ...   0.0  0.0  0.0  0.0  0.0  0.0  0.0  0.0  0.0  0.0  \n",
       "1417723489285569906 ...   0.0  0.0  0.0  0.0  0.0  0.0  0.0  0.0  0.0  0.0  \n",
       "1417726356804600801 ...   0.0  0.0  0.0  0.0  0.0  0.0  0.0  0.0  0.0  0.0  \n",
       "\n",
       "[5 rows x 21 columns]"
      ]
     },
     "execution_count": 46,
     "metadata": {},
     "output_type": "execute_result"
    }
   ],
   "source": [
    "participationTablePost.head()"
   ]
  },
  {
   "cell_type": "code",
   "execution_count": 50,
   "metadata": {
    "collapsed": true
   },
   "outputs": [],
   "source": [
    "topImg = {}\n",
    "for c in range(clusters.shape[0]-1):\n",
    "    top_img_cluster = list(participationTablePost[c].sort_values(ascending=False)[:TOP_IMG].index)\n",
    "    topImg[c] = top_img_cluster"
   ]
  },
  {
   "cell_type": "code",
   "execution_count": 59,
   "metadata": {},
   "outputs": [
    {
     "name": "stdout",
     "output_type": "stream",
     "text": [
      "list index out of range https://www.instagram.com/p/BP2Hh98DGd7\n",
      "list index out of range https://www.instagram.com/p/BSp38tQB6sl\n",
      "list index out of range https://www.instagram.com/p/BSW6dM_h7kg\n"
     ]
    }
   ],
   "source": [
    "for c in range(clusters.shape[0]-1):\n",
    "    top_img_cluster = list(participationTablePost[c].sort_values(ascending=False).index)[:10]\n",
    "    \n",
    "    img_found = 0\n",
    "    for pid in top_img_cluster:\n",
    "        url = posts[posts['id_post'] == pid]['link_post'].values[0]\n",
    "        username = posts[posts['id_post'] == pid]['username'].values[0]\n",
    "        image_url = get_img_url(url)\n",
    "        \n",
    "        if image_url is not None:\n",
    "            img_data = requests.get(image_url).content\n",
    "            with open(cluster_pic_path + 'c{}_{}_{}.jpg'.format(c, username, pid), 'wb') as handler:\n",
    "                handler.write(img_data)\n",
    "            \n",
    "            img_found += 1\n",
    "            \n",
    "        if img_found == TOP_IMG:\n",
    "            break"
   ]
  },
  {
   "cell_type": "code",
   "execution_count": null,
   "metadata": {
    "collapsed": true
   },
   "outputs": [],
   "source": []
  }
 ],
 "metadata": {
  "kernelspec": {
   "display_name": "Python 2",
   "language": "python",
   "name": "python2"
  },
  "language_info": {
   "codemirror_mode": {
    "name": "ipython",
    "version": 2
   },
   "file_extension": ".py",
   "mimetype": "text/x-python",
   "name": "python",
   "nbconvert_exporter": "python",
   "pygments_lexer": "ipython2",
   "version": "2.7.13"
  }
 },
 "nbformat": 4,
 "nbformat_minor": 2
}
