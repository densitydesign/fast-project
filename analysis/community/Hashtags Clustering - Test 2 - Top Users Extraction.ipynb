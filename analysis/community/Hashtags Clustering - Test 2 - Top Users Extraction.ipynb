{
 "cells": [
  {
   "cell_type": "code",
   "execution_count": 6,
   "metadata": {
    "collapsed": true
   },
   "outputs": [],
   "source": [
    "import pandas as pd\n",
    "import ast"
   ]
  },
  {
   "cell_type": "code",
   "execution_count": 24,
   "metadata": {},
   "outputs": [
    {
     "name": "stdout",
     "output_type": "stream",
     "text": [
      "\n"
     ]
    }
   ],
   "source": [
    "outpath = 'output/'\n",
    "\n",
    "# read cluster output file: core level\n",
    "first_lv = pd.read_csv(outpath+'1_step_consumers.csv', sep='\\t', dtype=object)\n",
    "# read cluster output file: second level\n",
    "second_lv = pd.read_csv(outpath+'2_step_user_groups.csv', sep='\\t', dtype=object)\n",
    "# user metadata\n",
    "userdata = pd.read_csv('data/followers.csv')"
   ]
  },
  {
   "cell_type": "code",
   "execution_count": 27,
   "metadata": {},
   "outputs": [],
   "source": [
    "with open('output/cluster_users_export.csv', 'w') as outfile:\n",
    "    outfile.write('id_cluster,id_user,username,level,participation\\n')\n",
    "    for c in first_lv['n_cluster']:\n",
    "\n",
    "        top10core = list(ast.literal_eval(first_lv[first_lv['n_cluster'] == c]['consumers_list'].values[0]))[:10]\n",
    "\n",
    "        dim = int(first_lv[first_lv['n_cluster'] == c]['n_users'].values[0])\n",
    "        if dim == 1:\n",
    "            temp = tuple((top10core[0], top10core[1]))\n",
    "            top10core = [temp]\n",
    "\n",
    "        for u in top10core:\n",
    "            id_user = userdata[userdata['username'] == u[0]]['id_user'].values[0]\n",
    "            outfile.write('{},{},{},{},{}\\n'.format(c, id_user, u[0], 1, u[1]))\n",
    "\n",
    "        top10second = list(ast.literal_eval(second_lv[second_lv['id_cluster'] == c]['list_users'].values[0]))[:10]\n",
    "\n",
    "        for u in top10second:\n",
    "            id_user = userdata[userdata['username'] == u[0]]['id_user'].values[0]\n",
    "            outfile.write('{},{},{},{},{}\\n'.format(c, id_user, u[0], 2, u[1]))"
   ]
  },
  {
   "cell_type": "code",
   "execution_count": null,
   "metadata": {
    "collapsed": true
   },
   "outputs": [],
   "source": []
  }
 ],
 "metadata": {
  "kernelspec": {
   "display_name": "Python 2",
   "language": "python",
   "name": "python2"
  },
  "language_info": {
   "codemirror_mode": {
    "name": "ipython",
    "version": 2
   },
   "file_extension": ".py",
   "mimetype": "text/x-python",
   "name": "python",
   "nbconvert_exporter": "python",
   "pygments_lexer": "ipython2",
   "version": "2.7.13"
  }
 },
 "nbformat": 4,
 "nbformat_minor": 2
}
