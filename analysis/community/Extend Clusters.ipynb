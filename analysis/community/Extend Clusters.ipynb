{
 "cells": [
  {
   "cell_type": "code",
   "execution_count": 32,
   "metadata": {},
   "outputs": [],
   "source": [
    "import pandas as pd\n",
    "import numpy as np\n",
    "\n",
    "import ast\n",
    "import pickle\n",
    "\n",
    "import snap"
   ]
  },
  {
   "cell_type": "code",
   "execution_count": 2,
   "metadata": {},
   "outputs": [],
   "source": [
    "path = 'output/'\n",
    "cluster_data = pd.read_csv(path+'1_step_user_groups.csv', sep='\\t')"
   ]
  },
  {
   "cell_type": "code",
   "execution_count": 3,
   "metadata": {},
   "outputs": [
    {
     "data": {
      "text/html": [
       "<div>\n",
       "<style scoped>\n",
       "    .dataframe tbody tr th:only-of-type {\n",
       "        vertical-align: middle;\n",
       "    }\n",
       "\n",
       "    .dataframe tbody tr th {\n",
       "        vertical-align: top;\n",
       "    }\n",
       "\n",
       "    .dataframe thead th {\n",
       "        text-align: right;\n",
       "    }\n",
       "</style>\n",
       "<table border=\"1\" class=\"dataframe\">\n",
       "  <thead>\n",
       "    <tr style=\"text-align: right;\">\n",
       "      <th></th>\n",
       "      <th>n_cluster</th>\n",
       "      <th>dim</th>\n",
       "      <th>hashtags</th>\n",
       "    </tr>\n",
       "  </thead>\n",
       "  <tbody>\n",
       "    <tr>\n",
       "      <th>0</th>\n",
       "      <td>-1</td>\n",
       "      <td>1618</td>\n",
       "      <td>/</td>\n",
       "    </tr>\n",
       "    <tr>\n",
       "      <th>1</th>\n",
       "      <td>0</td>\n",
       "      <td>6828</td>\n",
       "      <td>/</td>\n",
       "    </tr>\n",
       "    <tr>\n",
       "      <th>2</th>\n",
       "      <td>1</td>\n",
       "      <td>16</td>\n",
       "      <td>interiorinspo,decora,interiordecor,interiorsty...</td>\n",
       "    </tr>\n",
       "    <tr>\n",
       "      <th>3</th>\n",
       "      <td>2</td>\n",
       "      <td>35</td>\n",
       "      <td>disney,instacat,gato,princess,ladyboss,poetryc...</td>\n",
       "    </tr>\n",
       "    <tr>\n",
       "      <th>4</th>\n",
       "      <td>3</td>\n",
       "      <td>14</td>\n",
       "      <td>europa,fashionstylist,voyage,argentina,aloha,e...</td>\n",
       "    </tr>\n",
       "  </tbody>\n",
       "</table>\n",
       "</div>"
      ],
      "text/plain": [
       "   n_cluster   dim                                           hashtags\n",
       "0         -1  1618                                                  /\n",
       "1          0  6828                                                  /\n",
       "2          1    16  interiorinspo,decora,interiordecor,interiorsty...\n",
       "3          2    35  disney,instacat,gato,princess,ladyboss,poetryc...\n",
       "4          3    14  europa,fashionstylist,voyage,argentina,aloha,e..."
      ]
     },
     "execution_count": 3,
     "metadata": {},
     "output_type": "execute_result"
    }
   ],
   "source": [
    "cluster_tags = pd.read_csv(path+'1_step_tags_clusters.txt', sep='\\t')\n",
    "cluster_tags.head()"
   ]
  },
  {
   "cell_type": "code",
   "execution_count": 4,
   "metadata": {},
   "outputs": [
    {
     "data": {
      "text/html": [
       "<div>\n",
       "<style scoped>\n",
       "    .dataframe tbody tr th:only-of-type {\n",
       "        vertical-align: middle;\n",
       "    }\n",
       "\n",
       "    .dataframe tbody tr th {\n",
       "        vertical-align: top;\n",
       "    }\n",
       "\n",
       "    .dataframe thead th {\n",
       "        text-align: right;\n",
       "    }\n",
       "</style>\n",
       "<table border=\"1\" class=\"dataframe\">\n",
       "  <thead>\n",
       "    <tr style=\"text-align: right;\">\n",
       "      <th></th>\n",
       "      <th>id_cluster</th>\n",
       "      <th>num_users</th>\n",
       "      <th>list_users</th>\n",
       "    </tr>\n",
       "  </thead>\n",
       "  <tbody>\n",
       "    <tr>\n",
       "      <th>0</th>\n",
       "      <td>1</td>\n",
       "      <td>17</td>\n",
       "      <td>('citychic4ever__', 0.9411764705882353), ('raw...</td>\n",
       "    </tr>\n",
       "    <tr>\n",
       "      <th>1</th>\n",
       "      <td>2</td>\n",
       "      <td>16</td>\n",
       "      <td>('len_cap', 1.0), ('crown_rising', 0.823529411...</td>\n",
       "    </tr>\n",
       "    <tr>\n",
       "      <th>2</th>\n",
       "      <td>3</td>\n",
       "      <td>15</td>\n",
       "      <td>('rimaglio', 1.0), ('pollyonvoyage', 0.8235294...</td>\n",
       "    </tr>\n",
       "    <tr>\n",
       "      <th>4</th>\n",
       "      <td>5</td>\n",
       "      <td>2</td>\n",
       "      <td>('mynnorthamerica', 0.8823529411764706), ('gra...</td>\n",
       "    </tr>\n",
       "    <tr>\n",
       "      <th>5</th>\n",
       "      <td>6</td>\n",
       "      <td>9</td>\n",
       "      <td>('thankstoyou_pgh', 0.9411764705882353), ('njc...</td>\n",
       "    </tr>\n",
       "  </tbody>\n",
       "</table>\n",
       "</div>"
      ],
      "text/plain": [
       "   id_cluster  num_users                                         list_users\n",
       "0           1         17  ('citychic4ever__', 0.9411764705882353), ('raw...\n",
       "1           2         16  ('len_cap', 1.0), ('crown_rising', 0.823529411...\n",
       "2           3         15  ('rimaglio', 1.0), ('pollyonvoyage', 0.8235294...\n",
       "4           5          2  ('mynnorthamerica', 0.8823529411764706), ('gra...\n",
       "5           6          9  ('thankstoyou_pgh', 0.9411764705882353), ('njc..."
      ]
     },
     "execution_count": 4,
     "metadata": {},
     "output_type": "execute_result"
    }
   ],
   "source": [
    "# filter clusters that are not relevant\n",
    "cluster_data = cluster_data[cluster_data['num_users'] > 1]\n",
    "cluster_data.head()"
   ]
  },
  {
   "cell_type": "code",
   "execution_count": 48,
   "metadata": {},
   "outputs": [],
   "source": [
    "def filterUsers(userlist):\n",
    "    userlist = list(ast.literal_eval(userlist))\n",
    "    result = []\n",
    "    for userdata in userlist:\n",
    "        if userdata[1] <= 0.5:\n",
    "            result.append(userdata)\n",
    "    return result"
   ]
  },
  {
   "cell_type": "code",
   "execution_count": 6,
   "metadata": {},
   "outputs": [],
   "source": [
    "def getCompleteUserlist(userlist):\n",
    "    userlist = list(ast.literal_eval(userlist))\n",
    "    result = []\n",
    "    for userdata in userlist:\n",
    "        result.append(userdata[0])\n",
    "    return result"
   ]
  },
  {
   "cell_type": "code",
   "execution_count": 49,
   "metadata": {},
   "outputs": [
    {
     "data": {
      "text/html": [
       "<div>\n",
       "<style scoped>\n",
       "    .dataframe tbody tr th:only-of-type {\n",
       "        vertical-align: middle;\n",
       "    }\n",
       "\n",
       "    .dataframe tbody tr th {\n",
       "        vertical-align: top;\n",
       "    }\n",
       "\n",
       "    .dataframe thead th {\n",
       "        text-align: right;\n",
       "    }\n",
       "</style>\n",
       "<table border=\"1\" class=\"dataframe\">\n",
       "  <thead>\n",
       "    <tr style=\"text-align: right;\">\n",
       "      <th></th>\n",
       "      <th>id_cluster</th>\n",
       "      <th>num_users</th>\n",
       "      <th>list_users</th>\n",
       "      <th>relevant_users</th>\n",
       "      <th>all_users</th>\n",
       "    </tr>\n",
       "  </thead>\n",
       "  <tbody>\n",
       "    <tr>\n",
       "      <th>0</th>\n",
       "      <td>1</td>\n",
       "      <td>17</td>\n",
       "      <td>('citychic4ever__', 0.9411764705882353), ('raw...</td>\n",
       "      <td>[(rawcontent, 0.5), (magalyopice, 0.375), (lib...</td>\n",
       "      <td>[citychic4ever__, rawcontent, magalyopice, lib...</td>\n",
       "    </tr>\n",
       "    <tr>\n",
       "      <th>1</th>\n",
       "      <td>2</td>\n",
       "      <td>16</td>\n",
       "      <td>('len_cap', 1.0), ('crown_rising', 0.823529411...</td>\n",
       "      <td>[(ashcebulka, 0.352941176471), (aurotempus, 0....</td>\n",
       "      <td>[len_cap, crown_rising, murrymckee, ashcebulka...</td>\n",
       "    </tr>\n",
       "    <tr>\n",
       "      <th>2</th>\n",
       "      <td>3</td>\n",
       "      <td>15</td>\n",
       "      <td>('rimaglio', 1.0), ('pollyonvoyage', 0.8235294...</td>\n",
       "      <td>[(melrosexclusive, 0.0588235294118), (manak419...</td>\n",
       "      <td>[rimaglio, pollyonvoyage, melrosexclusive, man...</td>\n",
       "    </tr>\n",
       "    <tr>\n",
       "      <th>4</th>\n",
       "      <td>5</td>\n",
       "      <td>2</td>\n",
       "      <td>('mynnorthamerica', 0.8823529411764706), ('gra...</td>\n",
       "      <td>[(grantbriskinphl, 0.1)]</td>\n",
       "      <td>[mynnorthamerica, grantbriskinphl]</td>\n",
       "    </tr>\n",
       "    <tr>\n",
       "      <th>5</th>\n",
       "      <td>6</td>\n",
       "      <td>9</td>\n",
       "      <td>('thankstoyou_pgh', 0.9411764705882353), ('njc...</td>\n",
       "      <td>[(njcubangirl, 0.117647058824), (wandpdesign, ...</td>\n",
       "      <td>[thankstoyou_pgh, njcubangirl, wandpdesign, if...</td>\n",
       "    </tr>\n",
       "  </tbody>\n",
       "</table>\n",
       "</div>"
      ],
      "text/plain": [
       "   id_cluster  num_users                                         list_users  \\\n",
       "0           1         17  ('citychic4ever__', 0.9411764705882353), ('raw...   \n",
       "1           2         16  ('len_cap', 1.0), ('crown_rising', 0.823529411...   \n",
       "2           3         15  ('rimaglio', 1.0), ('pollyonvoyage', 0.8235294...   \n",
       "4           5          2  ('mynnorthamerica', 0.8823529411764706), ('gra...   \n",
       "5           6          9  ('thankstoyou_pgh', 0.9411764705882353), ('njc...   \n",
       "\n",
       "                                      relevant_users  \\\n",
       "0  [(rawcontent, 0.5), (magalyopice, 0.375), (lib...   \n",
       "1  [(ashcebulka, 0.352941176471), (aurotempus, 0....   \n",
       "2  [(melrosexclusive, 0.0588235294118), (manak419...   \n",
       "4                           [(grantbriskinphl, 0.1)]   \n",
       "5  [(njcubangirl, 0.117647058824), (wandpdesign, ...   \n",
       "\n",
       "                                           all_users  \n",
       "0  [citychic4ever__, rawcontent, magalyopice, lib...  \n",
       "1  [len_cap, crown_rising, murrymckee, ashcebulka...  \n",
       "2  [rimaglio, pollyonvoyage, melrosexclusive, man...  \n",
       "4                 [mynnorthamerica, grantbriskinphl]  \n",
       "5  [thankstoyou_pgh, njcubangirl, wandpdesign, if...  "
      ]
     },
     "execution_count": 49,
     "metadata": {},
     "output_type": "execute_result"
    }
   ],
   "source": [
    "# keep only relevant users (== consumers)\n",
    "cluster_data['relevant_users'] = cluster_data.apply(lambda x: filterUsers(x['list_users']), axis=1)\n",
    "cluster_data['all_users'] = cluster_data.apply(lambda x: getCompleteUserlist(x['list_users']), axis=1)\n",
    "cluster_data.head()"
   ]
  },
  {
   "cell_type": "code",
   "execution_count": 52,
   "metadata": {},
   "outputs": [],
   "source": [
    "with open('output/1_step_consumers.csv', 'w') as outfile:\n",
    "    outfile.write('n_cluster\\tn_users\\tconsumers_list\\n')\n",
    "    for c in cluster_data['id_cluster']:\n",
    "        cluster = cluster_data[cluster_data['id_cluster'] == c]['relevant_users'].values[0]\n",
    "        dim = len(cluster)\n",
    "    \n",
    "        outfile.write('{}\\t{}\\t{}\\n'.format(c, dim, str(cluster).strip('[]')))"
   ]
  },
  {
   "cell_type": "code",
   "execution_count": 8,
   "metadata": {},
   "outputs": [],
   "source": [
    "# read source network\n",
    "network = snap.LoadEdgeListNet('data/followers_network.csv', '\\t')\n",
    "\n",
    "V = network.GetNodes()"
   ]
  },
  {
   "cell_type": "code",
   "execution_count": 12,
   "metadata": {},
   "outputs": [],
   "source": [
    "# use all the users to expand the clusters\n",
    "temp_result = []\n",
    "for c in cluster_data['id_cluster']:\n",
    "    c_users = cluster_data[cluster_data['id_cluster'] == c]['all_users'].values[0]\n",
    "    \n",
    "    it = network.BegNI()\n",
    "    tag_ids = snap.TIntV()\n",
    "    for i in range(V):\n",
    "        nid = it.GetId()\n",
    "        type = network.GetStrAttrDatN(nid, 'type')\n",
    "        username = network.GetStrAttrDatN(nid, 'content')\n",
    "\n",
    "        if type == 'user' and username in c_users:\n",
    "            # add all tags of user\n",
    "            tags = snap.TIntV()\n",
    "            snap.GetNodesAtHop(network, nid, 2, tags, True)\n",
    "            tag_ids.AddV(tags)\n",
    "\n",
    "        it.Next()\n",
    "        \n",
    "    tag_ids.Merge() \n",
    "    \n",
    "    alltags = set()\n",
    "    for tid in tag_ids:\n",
    "        tagname = network.GetStrAttrDatN(tid, 'content')\n",
    "        alltags.add(tagname)\n",
    "        \n",
    "    c_tags = set(cluster_tags[cluster_tags['n_cluster'] == c]['hashtags'].values[0].split(','))\n",
    "    newtags = alltags - c_tags\n",
    "    \n",
    "    temp_result.append(tuple((c, newtags)))"
   ]
  },
  {
   "cell_type": "code",
   "execution_count": 20,
   "metadata": {},
   "outputs": [],
   "source": [
    "extended_cluster_tags = pd.DataFrame(temp_result, columns=['n_cluster', 'hashtags'])"
   ]
  },
  {
   "cell_type": "code",
   "execution_count": 44,
   "metadata": {},
   "outputs": [],
   "source": [
    "with open('output/2_step_tags_clusters.txt', 'w') as outfile:\n",
    "    outfile.write('n_cluster\\tdim\\thashtags\\n')\n",
    "    for c in extended_cluster_tags['n_cluster']:\n",
    "        cluster = extended_cluster_tags[extended_cluster_tags['n_cluster'] == c]['hashtags'].values[0]\n",
    "        dim = len(cluster)\n",
    "    \n",
    "        outfile.write('{}\\t{}\\t{}\\n'.format(c, dim, ','.join(list(cluster))))"
   ]
  },
  {
   "cell_type": "code",
   "execution_count": 26,
   "metadata": {},
   "outputs": [
    {
     "name": "stdout",
     "output_type": "stream",
     "text": [
      "201\n",
      "191\n",
      "202\n",
      "11\n",
      "120\n",
      "29\n",
      "429\n",
      "242\n",
      "40\n",
      "66\n",
      "18\n",
      "157\n",
      "64\n",
      "122\n",
      "177\n",
      "160\n",
      "19\n",
      "65\n",
      "20\n",
      "17\n",
      "146\n",
      "36\n",
      "7\n",
      "64\n",
      "56\n",
      "99\n",
      "69\n",
      "19\n"
     ]
    }
   ],
   "source": [
    "#extended_cluster_tags['hashtags'] = extended_cluster_tags.apply(lambda x: x['hashtags'], for axis=1)\n",
    "test = set()\n",
    "for s in extended_cluster_tags['hashtags']:\n",
    "    print len(s)\n",
    "    test = test.union(s)"
   ]
  },
  {
   "cell_type": "code",
   "execution_count": 27,
   "metadata": {},
   "outputs": [
    {
     "data": {
      "text/plain": [
       "2053"
      ]
     },
     "execution_count": 27,
     "metadata": {},
     "output_type": "execute_result"
    }
   ],
   "source": [
    "len(test)"
   ]
  },
  {
   "cell_type": "code",
   "execution_count": 31,
   "metadata": {},
   "outputs": [
    {
     "name": "stdout",
     "output_type": "stream",
     "text": [
      "13\n",
      "set(['loveher', 'libertyoflondon', 'palmsprings', 'angel', 'marcjacobs', 'pranzo', 'thegoodlife', 'womensrights', 'tompetty', 'whywetri', 'doit', 'somewhere', 'algarve', 'noplacelikehome', 'ladieswholunch', 'getfit', 'lovehim', 'epic'])\n"
     ]
    }
   ],
   "source": [
    "i = 10\n",
    "print extended_cluster_tags.iloc[i]['n_cluster']\n",
    "print extended_cluster_tags.iloc[i]['hashtags']"
   ]
  },
  {
   "cell_type": "code",
   "execution_count": 34,
   "metadata": {},
   "outputs": [],
   "source": [
    "# compute list of tags for each user\n",
    "usedtags = {}\n",
    "\n",
    "it = network.BegNI()\n",
    "V = network.GetNodes()\n",
    "for i in range(V):\n",
    "    nid = it.GetId()\n",
    "    type = network.GetStrAttrDatN(nid, 'type')\n",
    "    username = network.GetStrAttrDatN(nid, 'content')\n",
    "\n",
    "    if type == 'user':\n",
    "        tagsV = snap.TIntV()\n",
    "        snap.GetNodesAtHop(network, nid, 2, tagsV, True)\n",
    "        \n",
    "        taglist = []\n",
    "        for tid in tagsV:\n",
    "            tagname = network.GetStrAttrDatN(tid, 'content')\n",
    "            taglist.append(tagname)\n",
    "            \n",
    "        usedtags[username] = set(taglist)\n",
    "    it.Next()"
   ]
  },
  {
   "cell_type": "code",
   "execution_count": 37,
   "metadata": {},
   "outputs": [],
   "source": [
    "# store for next iterations/runs\n",
    "pickle.dump(usedtags, open('output/user-tags-list.pkl', 'w'))"
   ]
  },
  {
   "cell_type": "code",
   "execution_count": 39,
   "metadata": {},
   "outputs": [],
   "source": [
    "# compute participation \n",
    "tempResult = []\n",
    "for u in usedtags:\n",
    "    u_vector = usedtags[u]\n",
    "    \n",
    "    if len(u_vector)>0:\n",
    "        u_result = [u]\n",
    "        for c in extended_cluster_tags['n_cluster']:\n",
    "            c_vector = extended_cluster_tags[extended_cluster_tags['n_cluster'] == c]['hashtags'].values[0]\n",
    "            participation = float(len(u_vector.intersection(c_vector)))/len(u_vector)\n",
    "            u_result.append(participation)\n",
    "    else:\n",
    "        u_result = [u]+[0 for i in extended_cluster_tags['n_cluster']]\n",
    "    tempResult.append(tuple(u_result))"
   ]
  },
  {
   "cell_type": "code",
   "execution_count": 40,
   "metadata": {},
   "outputs": [],
   "source": [
    "result_header = ['username']+[c for c in extended_cluster_tags['n_cluster']]\n",
    "participationTable = pd.DataFrame(tempResult, columns=result_header)"
   ]
  },
  {
   "cell_type": "code",
   "execution_count": 41,
   "metadata": {},
   "outputs": [
    {
     "data": {
      "text/html": [
       "<div>\n",
       "<style scoped>\n",
       "    .dataframe tbody tr th:only-of-type {\n",
       "        vertical-align: middle;\n",
       "    }\n",
       "\n",
       "    .dataframe tbody tr th {\n",
       "        vertical-align: top;\n",
       "    }\n",
       "\n",
       "    .dataframe thead th {\n",
       "        text-align: right;\n",
       "    }\n",
       "</style>\n",
       "<table border=\"1\" class=\"dataframe\">\n",
       "  <thead>\n",
       "    <tr style=\"text-align: right;\">\n",
       "      <th></th>\n",
       "      <th>username</th>\n",
       "      <th>1</th>\n",
       "      <th>2</th>\n",
       "      <th>3</th>\n",
       "      <th>5</th>\n",
       "      <th>6</th>\n",
       "      <th>7</th>\n",
       "      <th>8</th>\n",
       "      <th>10</th>\n",
       "      <th>11</th>\n",
       "      <th>...</th>\n",
       "      <th>24</th>\n",
       "      <th>25</th>\n",
       "      <th>26</th>\n",
       "      <th>28</th>\n",
       "      <th>31</th>\n",
       "      <th>32</th>\n",
       "      <th>33</th>\n",
       "      <th>34</th>\n",
       "      <th>35</th>\n",
       "      <th>36</th>\n",
       "    </tr>\n",
       "  </thead>\n",
       "  <tbody>\n",
       "    <tr>\n",
       "      <th>0</th>\n",
       "      <td>martaferrari9008</td>\n",
       "      <td>0.500000</td>\n",
       "      <td>0.0</td>\n",
       "      <td>0.000000</td>\n",
       "      <td>0.0</td>\n",
       "      <td>0.000000</td>\n",
       "      <td>0.000000</td>\n",
       "      <td>0.000000</td>\n",
       "      <td>0.000000</td>\n",
       "      <td>0.000000</td>\n",
       "      <td>...</td>\n",
       "      <td>0.0</td>\n",
       "      <td>0.0</td>\n",
       "      <td>0.000000</td>\n",
       "      <td>0.0</td>\n",
       "      <td>0.000000</td>\n",
       "      <td>0.0</td>\n",
       "      <td>0.000000</td>\n",
       "      <td>0.000000</td>\n",
       "      <td>0.000000</td>\n",
       "      <td>0.0</td>\n",
       "    </tr>\n",
       "    <tr>\n",
       "      <th>1</th>\n",
       "      <td>rsersale</td>\n",
       "      <td>0.058824</td>\n",
       "      <td>0.0</td>\n",
       "      <td>0.000000</td>\n",
       "      <td>0.0</td>\n",
       "      <td>0.000000</td>\n",
       "      <td>0.000000</td>\n",
       "      <td>0.117647</td>\n",
       "      <td>0.000000</td>\n",
       "      <td>0.000000</td>\n",
       "      <td>...</td>\n",
       "      <td>0.0</td>\n",
       "      <td>0.0</td>\n",
       "      <td>0.058824</td>\n",
       "      <td>0.0</td>\n",
       "      <td>0.000000</td>\n",
       "      <td>0.0</td>\n",
       "      <td>0.176471</td>\n",
       "      <td>0.000000</td>\n",
       "      <td>0.000000</td>\n",
       "      <td>0.0</td>\n",
       "    </tr>\n",
       "    <tr>\n",
       "      <th>2</th>\n",
       "      <td>tlashab</td>\n",
       "      <td>0.000000</td>\n",
       "      <td>0.0</td>\n",
       "      <td>0.000000</td>\n",
       "      <td>0.0</td>\n",
       "      <td>0.000000</td>\n",
       "      <td>0.000000</td>\n",
       "      <td>0.000000</td>\n",
       "      <td>0.000000</td>\n",
       "      <td>0.111111</td>\n",
       "      <td>...</td>\n",
       "      <td>0.0</td>\n",
       "      <td>0.0</td>\n",
       "      <td>0.222222</td>\n",
       "      <td>0.0</td>\n",
       "      <td>0.000000</td>\n",
       "      <td>0.0</td>\n",
       "      <td>0.000000</td>\n",
       "      <td>0.000000</td>\n",
       "      <td>0.000000</td>\n",
       "      <td>0.0</td>\n",
       "    </tr>\n",
       "    <tr>\n",
       "      <th>3</th>\n",
       "      <td>charr114</td>\n",
       "      <td>0.058824</td>\n",
       "      <td>0.0</td>\n",
       "      <td>0.117647</td>\n",
       "      <td>0.0</td>\n",
       "      <td>0.117647</td>\n",
       "      <td>0.058824</td>\n",
       "      <td>0.294118</td>\n",
       "      <td>0.235294</td>\n",
       "      <td>0.058824</td>\n",
       "      <td>...</td>\n",
       "      <td>0.0</td>\n",
       "      <td>0.0</td>\n",
       "      <td>0.000000</td>\n",
       "      <td>0.0</td>\n",
       "      <td>0.058824</td>\n",
       "      <td>0.0</td>\n",
       "      <td>0.000000</td>\n",
       "      <td>0.058824</td>\n",
       "      <td>0.117647</td>\n",
       "      <td>0.0</td>\n",
       "    </tr>\n",
       "    <tr>\n",
       "      <th>4</th>\n",
       "      <td>catespin</td>\n",
       "      <td>0.058824</td>\n",
       "      <td>0.0</td>\n",
       "      <td>0.000000</td>\n",
       "      <td>0.0</td>\n",
       "      <td>0.000000</td>\n",
       "      <td>0.000000</td>\n",
       "      <td>0.176471</td>\n",
       "      <td>0.058824</td>\n",
       "      <td>0.000000</td>\n",
       "      <td>...</td>\n",
       "      <td>0.0</td>\n",
       "      <td>0.0</td>\n",
       "      <td>0.000000</td>\n",
       "      <td>0.0</td>\n",
       "      <td>0.058824</td>\n",
       "      <td>0.0</td>\n",
       "      <td>0.000000</td>\n",
       "      <td>0.000000</td>\n",
       "      <td>0.058824</td>\n",
       "      <td>0.0</td>\n",
       "    </tr>\n",
       "  </tbody>\n",
       "</table>\n",
       "<p>5 rows × 29 columns</p>\n",
       "</div>"
      ],
      "text/plain": [
       "           username         1    2         3    5         6         7  \\\n",
       "0  martaferrari9008  0.500000  0.0  0.000000  0.0  0.000000  0.000000   \n",
       "1          rsersale  0.058824  0.0  0.000000  0.0  0.000000  0.000000   \n",
       "2           tlashab  0.000000  0.0  0.000000  0.0  0.000000  0.000000   \n",
       "3          charr114  0.058824  0.0  0.117647  0.0  0.117647  0.058824   \n",
       "4          catespin  0.058824  0.0  0.000000  0.0  0.000000  0.000000   \n",
       "\n",
       "          8        10        11 ...    24   25        26   28        31   32  \\\n",
       "0  0.000000  0.000000  0.000000 ...   0.0  0.0  0.000000  0.0  0.000000  0.0   \n",
       "1  0.117647  0.000000  0.000000 ...   0.0  0.0  0.058824  0.0  0.000000  0.0   \n",
       "2  0.000000  0.000000  0.111111 ...   0.0  0.0  0.222222  0.0  0.000000  0.0   \n",
       "3  0.294118  0.235294  0.058824 ...   0.0  0.0  0.000000  0.0  0.058824  0.0   \n",
       "4  0.176471  0.058824  0.000000 ...   0.0  0.0  0.000000  0.0  0.058824  0.0   \n",
       "\n",
       "         33        34        35   36  \n",
       "0  0.000000  0.000000  0.000000  0.0  \n",
       "1  0.176471  0.000000  0.000000  0.0  \n",
       "2  0.000000  0.000000  0.000000  0.0  \n",
       "3  0.000000  0.058824  0.117647  0.0  \n",
       "4  0.000000  0.000000  0.058824  0.0  \n",
       "\n",
       "[5 rows x 29 columns]"
      ]
     },
     "execution_count": 41,
     "metadata": {},
     "output_type": "execute_result"
    }
   ],
   "source": [
    "participationTable.head()"
   ]
  },
  {
   "cell_type": "code",
   "execution_count": 42,
   "metadata": {},
   "outputs": [],
   "source": [
    "participationTable.to_csv('output/2_step_user_participation.csv', index=None)"
   ]
  },
  {
   "cell_type": "code",
   "execution_count": 60,
   "metadata": {},
   "outputs": [],
   "source": [
    "first_step_cons = set()\n",
    "for userlist in cluster_data['relevant_users']:\n",
    "    for u in userlist:\n",
    "        first_step_cons.add(u[0])"
   ]
  },
  {
   "cell_type": "code",
   "execution_count": 61,
   "metadata": {},
   "outputs": [
    {
     "data": {
      "text/plain": [
       "167"
      ]
     },
     "execution_count": 61,
     "metadata": {},
     "output_type": "execute_result"
    }
   ],
   "source": [
    "len(first_step_cons)"
   ]
  },
  {
   "cell_type": "code",
   "execution_count": 68,
   "metadata": {},
   "outputs": [
    {
     "name": "stderr",
     "output_type": "stream",
     "text": [
      "/home/anaconda2/lib/python2.7/site-packages/ipykernel_launcher.py:6: SettingWithCopyWarning: \n",
      "A value is trying to be set on a copy of a slice from a DataFrame\n",
      "\n",
      "See the caveats in the documentation: http://pandas.pydata.org/pandas-docs/stable/indexing.html#indexing-view-versus-copy\n",
      "  \n"
     ]
    }
   ],
   "source": [
    "with open('output/2_step_user_groups.csv', 'w') as outfile:\n",
    "    outfile.write('id_cluster\\tnum_users\\tlist_users\\n')\n",
    "    for i in extended_cluster_tags['n_cluster']:\n",
    "        group = participationTable[participationTable[i] != 0.0]\n",
    "        group.sort_values(by=i, ascending = False, inplace=True)\n",
    "        \n",
    "        userlist = [tuple((x['username'], x[i])) for index, x in group.iterrows() if x['username'] not in first_step_cons]\n",
    "        \n",
    "        dim = len(userlist)\n",
    "        outfile.write('{}\\t{}\\t{}\\n'.format(i, dim, str(userlist).strip('[]')))"
   ]
  },
  {
   "cell_type": "code",
   "execution_count": null,
   "metadata": {},
   "outputs": [],
   "source": []
  }
 ],
 "metadata": {
  "kernelspec": {
   "display_name": "Python 2",
   "language": "python",
   "name": "python2"
  },
  "language_info": {
   "codemirror_mode": {
    "name": "ipython",
    "version": 2
   },
   "file_extension": ".py",
   "mimetype": "text/x-python",
   "name": "python",
   "nbconvert_exporter": "python",
   "pygments_lexer": "ipython2",
   "version": "2.7.15"
  }
 },
 "nbformat": 4,
 "nbformat_minor": 2
}
